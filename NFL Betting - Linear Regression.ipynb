{
 "cells": [
  {
   "cell_type": "markdown",
   "metadata": {},
   "source": [
    "### Import Libraries"
   ]
  },
  {
   "cell_type": "code",
   "execution_count": 1,
   "metadata": {},
   "outputs": [],
   "source": [
    "#for web scraping\n",
    "import requests\n",
    "from bs4 import BeautifulSoup\n",
    "\n",
    "#for data cleaning and analysis\n",
    "import pandas as pd  \n",
    "import numpy as np\n",
    "import statsmodels.api as sm"
   ]
  },
  {
   "cell_type": "markdown",
   "metadata": {},
   "source": [
    "### Webscraping Final Score Data"
   ]
  },
  {
   "cell_type": "code",
   "execution_count": 2,
   "metadata": {},
   "outputs": [],
   "source": [
    "url = 'https://www.pro-football-reference.com/years/2019/games.htm'\n",
    "\n",
    "response = requests.get(url)\n",
    "soup = BeautifulSoup(response.content, 'html.parser')\n",
    "table = soup.find('table', {'id': 'games'})\n",
    "data = pd.read_html(str(table))[0]"
   ]
  },
  {
   "cell_type": "markdown",
   "metadata": {},
   "source": [
    "### Cleaning and Transforming Data"
   ]
  },
  {
   "cell_type": "markdown",
   "metadata": {},
   "source": [
    "**Drop unnecessary rows columns**"
   ]
  },
  {
   "cell_type": "code",
   "execution_count": 3,
   "metadata": {},
   "outputs": [
    {
     "data": {
      "text/html": [
       "<div>\n",
       "<style scoped>\n",
       "    .dataframe tbody tr th:only-of-type {\n",
       "        vertical-align: middle;\n",
       "    }\n",
       "\n",
       "    .dataframe tbody tr th {\n",
       "        vertical-align: top;\n",
       "    }\n",
       "\n",
       "    .dataframe thead th {\n",
       "        text-align: right;\n",
       "    }\n",
       "</style>\n",
       "<table border=\"1\" class=\"dataframe\">\n",
       "  <thead>\n",
       "    <tr style=\"text-align: right;\">\n",
       "      <th></th>\n",
       "      <th>Week</th>\n",
       "      <th>Day</th>\n",
       "      <th>Date</th>\n",
       "      <th>Time</th>\n",
       "      <th>Winner/tie</th>\n",
       "      <th>Unnamed: 5</th>\n",
       "      <th>Loser/tie</th>\n",
       "      <th>Unnamed: 7</th>\n",
       "      <th>PtsW</th>\n",
       "      <th>PtsL</th>\n",
       "      <th>YdsW</th>\n",
       "      <th>TOW</th>\n",
       "      <th>YdsL</th>\n",
       "      <th>TOL</th>\n",
       "    </tr>\n",
       "  </thead>\n",
       "  <tbody>\n",
       "    <tr>\n",
       "      <th>0</th>\n",
       "      <td>1</td>\n",
       "      <td>Thu</td>\n",
       "      <td>September 5</td>\n",
       "      <td>8:20PM</td>\n",
       "      <td>Green Bay Packers</td>\n",
       "      <td>@</td>\n",
       "      <td>Chicago Bears</td>\n",
       "      <td>boxscore</td>\n",
       "      <td>10</td>\n",
       "      <td>3</td>\n",
       "      <td>213</td>\n",
       "      <td>0</td>\n",
       "      <td>254</td>\n",
       "      <td>1</td>\n",
       "    </tr>\n",
       "    <tr>\n",
       "      <th>1</th>\n",
       "      <td>1</td>\n",
       "      <td>Sun</td>\n",
       "      <td>September 8</td>\n",
       "      <td>1:00PM</td>\n",
       "      <td>Tennessee Titans</td>\n",
       "      <td>@</td>\n",
       "      <td>Cleveland Browns</td>\n",
       "      <td>boxscore</td>\n",
       "      <td>43</td>\n",
       "      <td>13</td>\n",
       "      <td>339</td>\n",
       "      <td>0</td>\n",
       "      <td>346</td>\n",
       "      <td>3</td>\n",
       "    </tr>\n",
       "    <tr>\n",
       "      <th>2</th>\n",
       "      <td>1</td>\n",
       "      <td>Sun</td>\n",
       "      <td>September 8</td>\n",
       "      <td>1:00PM</td>\n",
       "      <td>Minnesota Vikings</td>\n",
       "      <td>NaN</td>\n",
       "      <td>Atlanta Falcons</td>\n",
       "      <td>boxscore</td>\n",
       "      <td>28</td>\n",
       "      <td>12</td>\n",
       "      <td>269</td>\n",
       "      <td>0</td>\n",
       "      <td>345</td>\n",
       "      <td>3</td>\n",
       "    </tr>\n",
       "    <tr>\n",
       "      <th>3</th>\n",
       "      <td>1</td>\n",
       "      <td>Sun</td>\n",
       "      <td>September 8</td>\n",
       "      <td>1:00PM</td>\n",
       "      <td>Philadelphia Eagles</td>\n",
       "      <td>NaN</td>\n",
       "      <td>Washington Redskins</td>\n",
       "      <td>boxscore</td>\n",
       "      <td>32</td>\n",
       "      <td>27</td>\n",
       "      <td>436</td>\n",
       "      <td>0</td>\n",
       "      <td>398</td>\n",
       "      <td>0</td>\n",
       "    </tr>\n",
       "    <tr>\n",
       "      <th>4</th>\n",
       "      <td>1</td>\n",
       "      <td>Sun</td>\n",
       "      <td>September 8</td>\n",
       "      <td>1:00PM</td>\n",
       "      <td>Los Angeles Rams</td>\n",
       "      <td>@</td>\n",
       "      <td>Carolina Panthers</td>\n",
       "      <td>boxscore</td>\n",
       "      <td>30</td>\n",
       "      <td>27</td>\n",
       "      <td>349</td>\n",
       "      <td>1</td>\n",
       "      <td>343</td>\n",
       "      <td>3</td>\n",
       "    </tr>\n",
       "  </tbody>\n",
       "</table>\n",
       "</div>"
      ],
      "text/plain": [
       "  Week  Day         Date    Time           Winner/tie Unnamed: 5  \\\n",
       "0    1  Thu  September 5  8:20PM    Green Bay Packers          @   \n",
       "1    1  Sun  September 8  1:00PM     Tennessee Titans          @   \n",
       "2    1  Sun  September 8  1:00PM    Minnesota Vikings        NaN   \n",
       "3    1  Sun  September 8  1:00PM  Philadelphia Eagles        NaN   \n",
       "4    1  Sun  September 8  1:00PM     Los Angeles Rams          @   \n",
       "\n",
       "             Loser/tie Unnamed: 7 PtsW PtsL YdsW TOW YdsL TOL  \n",
       "0        Chicago Bears   boxscore   10    3  213   0  254   1  \n",
       "1     Cleveland Browns   boxscore   43   13  339   0  346   3  \n",
       "2      Atlanta Falcons   boxscore   28   12  269   0  345   3  \n",
       "3  Washington Redskins   boxscore   32   27  436   0  398   0  \n",
       "4    Carolina Panthers   boxscore   30   27  349   1  343   3  "
      ]
     },
     "execution_count": 3,
     "metadata": {},
     "output_type": "execute_result"
    }
   ],
   "source": [
    "data.head()"
   ]
  },
  {
   "cell_type": "code",
   "execution_count": 4,
   "metadata": {},
   "outputs": [],
   "source": [
    "data.drop([\n",
    "    'Week','Day','Date','Time','Unnamed: 7','YdsW','TOW','YdsL','TOL'\n",
    "],axis = 1, inplace = True)"
   ]
  },
  {
   "cell_type": "code",
   "execution_count": 5,
   "metadata": {},
   "outputs": [],
   "source": [
    "data.rename(index = str, columns = {'Winner/tie':'W'}, inplace = True)\n",
    "data.rename(index = str, columns = {'Unnamed: 5':'HorA'}, inplace = True)\n",
    "data.rename(index = str, columns = {'Loser/tie':'L'}, inplace = True)"
   ]
  },
  {
   "cell_type": "code",
   "execution_count": 6,
   "metadata": {},
   "outputs": [],
   "source": [
    "data = data[data.HorA != 'N'] #drops games on neutral field\n",
    "data = data[data.W != 'Winner/tie'] #drops weekly header rows"
   ]
  },
  {
   "cell_type": "code",
   "execution_count": 7,
   "metadata": {},
   "outputs": [],
   "source": [
    "data.dropna(thresh=2, inplace = True) #drops any row with null value in 2nd column"
   ]
  },
  {
   "cell_type": "code",
   "execution_count": 8,
   "metadata": {},
   "outputs": [
    {
     "data": {
      "text/html": [
       "<div>\n",
       "<style scoped>\n",
       "    .dataframe tbody tr th:only-of-type {\n",
       "        vertical-align: middle;\n",
       "    }\n",
       "\n",
       "    .dataframe tbody tr th {\n",
       "        vertical-align: top;\n",
       "    }\n",
       "\n",
       "    .dataframe thead th {\n",
       "        text-align: right;\n",
       "    }\n",
       "</style>\n",
       "<table border=\"1\" class=\"dataframe\">\n",
       "  <thead>\n",
       "    <tr style=\"text-align: right;\">\n",
       "      <th></th>\n",
       "      <th>W</th>\n",
       "      <th>HorA</th>\n",
       "      <th>L</th>\n",
       "      <th>PtsW</th>\n",
       "      <th>PtsL</th>\n",
       "    </tr>\n",
       "  </thead>\n",
       "  <tbody>\n",
       "    <tr>\n",
       "      <th>0</th>\n",
       "      <td>Green Bay Packers</td>\n",
       "      <td>@</td>\n",
       "      <td>Chicago Bears</td>\n",
       "      <td>10</td>\n",
       "      <td>3</td>\n",
       "    </tr>\n",
       "    <tr>\n",
       "      <th>1</th>\n",
       "      <td>Tennessee Titans</td>\n",
       "      <td>@</td>\n",
       "      <td>Cleveland Browns</td>\n",
       "      <td>43</td>\n",
       "      <td>13</td>\n",
       "    </tr>\n",
       "    <tr>\n",
       "      <th>2</th>\n",
       "      <td>Minnesota Vikings</td>\n",
       "      <td>NaN</td>\n",
       "      <td>Atlanta Falcons</td>\n",
       "      <td>28</td>\n",
       "      <td>12</td>\n",
       "    </tr>\n",
       "    <tr>\n",
       "      <th>3</th>\n",
       "      <td>Philadelphia Eagles</td>\n",
       "      <td>NaN</td>\n",
       "      <td>Washington Redskins</td>\n",
       "      <td>32</td>\n",
       "      <td>27</td>\n",
       "    </tr>\n",
       "    <tr>\n",
       "      <th>4</th>\n",
       "      <td>Los Angeles Rams</td>\n",
       "      <td>@</td>\n",
       "      <td>Carolina Panthers</td>\n",
       "      <td>30</td>\n",
       "      <td>27</td>\n",
       "    </tr>\n",
       "  </tbody>\n",
       "</table>\n",
       "</div>"
      ],
      "text/plain": [
       "                     W HorA                    L PtsW PtsL\n",
       "0    Green Bay Packers    @        Chicago Bears   10    3\n",
       "1     Tennessee Titans    @     Cleveland Browns   43   13\n",
       "2    Minnesota Vikings  NaN      Atlanta Falcons   28   12\n",
       "3  Philadelphia Eagles  NaN  Washington Redskins   32   27\n",
       "4     Los Angeles Rams    @    Carolina Panthers   30   27"
      ]
     },
     "execution_count": 8,
     "metadata": {},
     "output_type": "execute_result"
    }
   ],
   "source": [
    "data.head()"
   ]
  },
  {
   "cell_type": "markdown",
   "metadata": {},
   "source": [
    "**Parse through Winners and Losers to find Home team, Away Team, Home Pts, and Away Pts**"
   ]
  },
  {
   "cell_type": "code",
   "execution_count": 9,
   "metadata": {},
   "outputs": [],
   "source": [
    "def find_home_away(column1,column2,name):\n",
    "    row_data = []\n",
    "    for index, row in data.iterrows():\n",
    "        c1 = row[column1]\n",
    "        c2 = row[column2]\n",
    "        home_or_away = row['HorA']\n",
    "        if home_or_away == '@':\n",
    "            row_data.append(c1)\n",
    "        else:\n",
    "            row_data.append(c2)\n",
    "    data[name] = row_data\n",
    "    return"
   ]
  },
  {
   "cell_type": "code",
   "execution_count": 10,
   "metadata": {},
   "outputs": [],
   "source": [
    "find_home_away('W','L','Away')\n",
    "find_home_away('L','W','Home')\n",
    "find_home_away('PtsW','PtsL','AwayPts')\n",
    "find_home_away('PtsL','PtsW','HomePts')"
   ]
  },
  {
   "cell_type": "code",
   "execution_count": 11,
   "metadata": {},
   "outputs": [
    {
     "data": {
      "text/html": [
       "<div>\n",
       "<style scoped>\n",
       "    .dataframe tbody tr th:only-of-type {\n",
       "        vertical-align: middle;\n",
       "    }\n",
       "\n",
       "    .dataframe tbody tr th {\n",
       "        vertical-align: top;\n",
       "    }\n",
       "\n",
       "    .dataframe thead th {\n",
       "        text-align: right;\n",
       "    }\n",
       "</style>\n",
       "<table border=\"1\" class=\"dataframe\">\n",
       "  <thead>\n",
       "    <tr style=\"text-align: right;\">\n",
       "      <th></th>\n",
       "      <th>W</th>\n",
       "      <th>HorA</th>\n",
       "      <th>L</th>\n",
       "      <th>PtsW</th>\n",
       "      <th>PtsL</th>\n",
       "      <th>Away</th>\n",
       "      <th>Home</th>\n",
       "      <th>AwayPts</th>\n",
       "      <th>HomePts</th>\n",
       "    </tr>\n",
       "  </thead>\n",
       "  <tbody>\n",
       "    <tr>\n",
       "      <th>0</th>\n",
       "      <td>Green Bay Packers</td>\n",
       "      <td>@</td>\n",
       "      <td>Chicago Bears</td>\n",
       "      <td>10</td>\n",
       "      <td>3</td>\n",
       "      <td>Green Bay Packers</td>\n",
       "      <td>Chicago Bears</td>\n",
       "      <td>10</td>\n",
       "      <td>3</td>\n",
       "    </tr>\n",
       "    <tr>\n",
       "      <th>1</th>\n",
       "      <td>Tennessee Titans</td>\n",
       "      <td>@</td>\n",
       "      <td>Cleveland Browns</td>\n",
       "      <td>43</td>\n",
       "      <td>13</td>\n",
       "      <td>Tennessee Titans</td>\n",
       "      <td>Cleveland Browns</td>\n",
       "      <td>43</td>\n",
       "      <td>13</td>\n",
       "    </tr>\n",
       "    <tr>\n",
       "      <th>2</th>\n",
       "      <td>Minnesota Vikings</td>\n",
       "      <td>NaN</td>\n",
       "      <td>Atlanta Falcons</td>\n",
       "      <td>28</td>\n",
       "      <td>12</td>\n",
       "      <td>Atlanta Falcons</td>\n",
       "      <td>Minnesota Vikings</td>\n",
       "      <td>12</td>\n",
       "      <td>28</td>\n",
       "    </tr>\n",
       "    <tr>\n",
       "      <th>3</th>\n",
       "      <td>Philadelphia Eagles</td>\n",
       "      <td>NaN</td>\n",
       "      <td>Washington Redskins</td>\n",
       "      <td>32</td>\n",
       "      <td>27</td>\n",
       "      <td>Washington Redskins</td>\n",
       "      <td>Philadelphia Eagles</td>\n",
       "      <td>27</td>\n",
       "      <td>32</td>\n",
       "    </tr>\n",
       "    <tr>\n",
       "      <th>4</th>\n",
       "      <td>Los Angeles Rams</td>\n",
       "      <td>@</td>\n",
       "      <td>Carolina Panthers</td>\n",
       "      <td>30</td>\n",
       "      <td>27</td>\n",
       "      <td>Los Angeles Rams</td>\n",
       "      <td>Carolina Panthers</td>\n",
       "      <td>30</td>\n",
       "      <td>27</td>\n",
       "    </tr>\n",
       "  </tbody>\n",
       "</table>\n",
       "</div>"
      ],
      "text/plain": [
       "                     W HorA                    L PtsW PtsL  \\\n",
       "0    Green Bay Packers    @        Chicago Bears   10    3   \n",
       "1     Tennessee Titans    @     Cleveland Browns   43   13   \n",
       "2    Minnesota Vikings  NaN      Atlanta Falcons   28   12   \n",
       "3  Philadelphia Eagles  NaN  Washington Redskins   32   27   \n",
       "4     Los Angeles Rams    @    Carolina Panthers   30   27   \n",
       "\n",
       "                  Away                 Home AwayPts HomePts  \n",
       "0    Green Bay Packers        Chicago Bears      10       3  \n",
       "1     Tennessee Titans     Cleveland Browns      43      13  \n",
       "2      Atlanta Falcons    Minnesota Vikings      12      28  \n",
       "3  Washington Redskins  Philadelphia Eagles      27      32  \n",
       "4     Los Angeles Rams    Carolina Panthers      30      27  "
      ]
     },
     "execution_count": 11,
     "metadata": {},
     "output_type": "execute_result"
    }
   ],
   "source": [
    "data.head()"
   ]
  },
  {
   "cell_type": "markdown",
   "metadata": {},
   "source": [
    "**Now no longer need 4 columns**"
   ]
  },
  {
   "cell_type": "code",
   "execution_count": 12,
   "metadata": {},
   "outputs": [],
   "source": [
    "data.drop([\n",
    "    'W','HorA','L','PtsW','PtsL'\n",
    "],axis = 1, inplace = True)"
   ]
  },
  {
   "cell_type": "markdown",
   "metadata": {},
   "source": [
    "**Then to calculate the Margin**"
   ]
  },
  {
   "cell_type": "code",
   "execution_count": 13,
   "metadata": {},
   "outputs": [],
   "source": [
    "data['AwayPts'] = data.AwayPts.astype(int)\n",
    "data['HomePts'] = data.HomePts.astype(int)"
   ]
  },
  {
   "cell_type": "code",
   "execution_count": 14,
   "metadata": {},
   "outputs": [
    {
     "data": {
      "text/html": [
       "<div>\n",
       "<style scoped>\n",
       "    .dataframe tbody tr th:only-of-type {\n",
       "        vertical-align: middle;\n",
       "    }\n",
       "\n",
       "    .dataframe tbody tr th {\n",
       "        vertical-align: top;\n",
       "    }\n",
       "\n",
       "    .dataframe thead th {\n",
       "        text-align: right;\n",
       "    }\n",
       "</style>\n",
       "<table border=\"1\" class=\"dataframe\">\n",
       "  <thead>\n",
       "    <tr style=\"text-align: right;\">\n",
       "      <th></th>\n",
       "      <th>Away</th>\n",
       "      <th>Home</th>\n",
       "      <th>AwayPts</th>\n",
       "      <th>HomePts</th>\n",
       "      <th>Margin</th>\n",
       "    </tr>\n",
       "  </thead>\n",
       "  <tbody>\n",
       "    <tr>\n",
       "      <th>0</th>\n",
       "      <td>Green Bay Packers</td>\n",
       "      <td>Chicago Bears</td>\n",
       "      <td>10</td>\n",
       "      <td>3</td>\n",
       "      <td>7</td>\n",
       "    </tr>\n",
       "    <tr>\n",
       "      <th>1</th>\n",
       "      <td>Tennessee Titans</td>\n",
       "      <td>Cleveland Browns</td>\n",
       "      <td>43</td>\n",
       "      <td>13</td>\n",
       "      <td>30</td>\n",
       "    </tr>\n",
       "    <tr>\n",
       "      <th>2</th>\n",
       "      <td>Atlanta Falcons</td>\n",
       "      <td>Minnesota Vikings</td>\n",
       "      <td>12</td>\n",
       "      <td>28</td>\n",
       "      <td>-16</td>\n",
       "    </tr>\n",
       "    <tr>\n",
       "      <th>3</th>\n",
       "      <td>Washington Redskins</td>\n",
       "      <td>Philadelphia Eagles</td>\n",
       "      <td>27</td>\n",
       "      <td>32</td>\n",
       "      <td>-5</td>\n",
       "    </tr>\n",
       "    <tr>\n",
       "      <th>4</th>\n",
       "      <td>Los Angeles Rams</td>\n",
       "      <td>Carolina Panthers</td>\n",
       "      <td>30</td>\n",
       "      <td>27</td>\n",
       "      <td>3</td>\n",
       "    </tr>\n",
       "  </tbody>\n",
       "</table>\n",
       "</div>"
      ],
      "text/plain": [
       "                  Away                 Home  AwayPts  HomePts  Margin\n",
       "0    Green Bay Packers        Chicago Bears       10        3       7\n",
       "1     Tennessee Titans     Cleveland Browns       43       13      30\n",
       "2      Atlanta Falcons    Minnesota Vikings       12       28     -16\n",
       "3  Washington Redskins  Philadelphia Eagles       27       32      -5\n",
       "4     Los Angeles Rams    Carolina Panthers       30       27       3"
      ]
     },
     "execution_count": 14,
     "metadata": {},
     "output_type": "execute_result"
    }
   ],
   "source": [
    "data['Margin'] = data['AwayPts'] - data['HomePts']\n",
    "data.head()"
   ]
  },
  {
   "cell_type": "code",
   "execution_count": 15,
   "metadata": {},
   "outputs": [],
   "source": [
    "srs = pd.read_csv('srs.csv')"
   ]
  },
  {
   "cell_type": "code",
   "execution_count": 16,
   "metadata": {},
   "outputs": [],
   "source": [
    "srs.drop([\n",
    "    'W','L','T','W-L%','PF','PA','PD','MoV','SoS','OSRS','DSRS'\n",
    "],axis = 1, inplace = True)"
   ]
  },
  {
   "cell_type": "code",
   "execution_count": 17,
   "metadata": {},
   "outputs": [],
   "source": [
    "#use dictionary to assign each stat to its respective team\n",
    "srs_dict = srs.set_index('Tm').stack().groupby(level=0).agg(sum).to_dict()"
   ]
  },
  {
   "cell_type": "code",
   "execution_count": 18,
   "metadata": {},
   "outputs": [],
   "source": [
    "#create column that contains respective teams stat\n",
    "data['aSRS'] = data['Away'].map(srs_dict)\n",
    "data['hSRS'] = data['Home'].map(srs_dict)"
   ]
  },
  {
   "cell_type": "code",
   "execution_count": 19,
   "metadata": {},
   "outputs": [
    {
     "data": {
      "text/html": [
       "<div>\n",
       "<style scoped>\n",
       "    .dataframe tbody tr th:only-of-type {\n",
       "        vertical-align: middle;\n",
       "    }\n",
       "\n",
       "    .dataframe tbody tr th {\n",
       "        vertical-align: top;\n",
       "    }\n",
       "\n",
       "    .dataframe thead th {\n",
       "        text-align: right;\n",
       "    }\n",
       "</style>\n",
       "<table border=\"1\" class=\"dataframe\">\n",
       "  <thead>\n",
       "    <tr style=\"text-align: right;\">\n",
       "      <th></th>\n",
       "      <th>Away</th>\n",
       "      <th>Home</th>\n",
       "      <th>AwayPts</th>\n",
       "      <th>HomePts</th>\n",
       "      <th>Margin</th>\n",
       "      <th>aSRS</th>\n",
       "      <th>hSRS</th>\n",
       "    </tr>\n",
       "  </thead>\n",
       "  <tbody>\n",
       "    <tr>\n",
       "      <th>0</th>\n",
       "      <td>Green Bay Packers</td>\n",
       "      <td>Chicago Bears</td>\n",
       "      <td>10</td>\n",
       "      <td>3</td>\n",
       "      <td>7</td>\n",
       "      <td>3.2</td>\n",
       "      <td>-0.9</td>\n",
       "    </tr>\n",
       "    <tr>\n",
       "      <th>1</th>\n",
       "      <td>Tennessee Titans</td>\n",
       "      <td>Cleveland Browns</td>\n",
       "      <td>43</td>\n",
       "      <td>13</td>\n",
       "      <td>30</td>\n",
       "      <td>3.4</td>\n",
       "      <td>-1.9</td>\n",
       "    </tr>\n",
       "    <tr>\n",
       "      <th>2</th>\n",
       "      <td>Atlanta Falcons</td>\n",
       "      <td>Minnesota Vikings</td>\n",
       "      <td>12</td>\n",
       "      <td>28</td>\n",
       "      <td>-16</td>\n",
       "      <td>-0.1</td>\n",
       "      <td>5.4</td>\n",
       "    </tr>\n",
       "    <tr>\n",
       "      <th>3</th>\n",
       "      <td>Washington Redskins</td>\n",
       "      <td>Philadelphia Eagles</td>\n",
       "      <td>27</td>\n",
       "      <td>32</td>\n",
       "      <td>-5</td>\n",
       "      <td>-10.8</td>\n",
       "      <td>0.3</td>\n",
       "    </tr>\n",
       "    <tr>\n",
       "      <th>4</th>\n",
       "      <td>Los Angeles Rams</td>\n",
       "      <td>Carolina Panthers</td>\n",
       "      <td>30</td>\n",
       "      <td>27</td>\n",
       "      <td>3</td>\n",
       "      <td>3.9</td>\n",
       "      <td>-7.0</td>\n",
       "    </tr>\n",
       "  </tbody>\n",
       "</table>\n",
       "</div>"
      ],
      "text/plain": [
       "                  Away                 Home  AwayPts  HomePts  Margin  aSRS  \\\n",
       "0    Green Bay Packers        Chicago Bears       10        3       7   3.2   \n",
       "1     Tennessee Titans     Cleveland Browns       43       13      30   3.4   \n",
       "2      Atlanta Falcons    Minnesota Vikings       12       28     -16  -0.1   \n",
       "3  Washington Redskins  Philadelphia Eagles       27       32      -5 -10.8   \n",
       "4     Los Angeles Rams    Carolina Panthers       30       27       3   3.9   \n",
       "\n",
       "   hSRS  \n",
       "0  -0.9  \n",
       "1  -1.9  \n",
       "2   5.4  \n",
       "3   0.3  \n",
       "4  -7.0  "
      ]
     },
     "execution_count": 19,
     "metadata": {},
     "output_type": "execute_result"
    }
   ],
   "source": [
    "data.head()"
   ]
  },
  {
   "cell_type": "markdown",
   "metadata": {},
   "source": [
    "### Linear Regression Model"
   ]
  },
  {
   "cell_type": "code",
   "execution_count": 20,
   "metadata": {},
   "outputs": [
    {
     "data": {
      "text/html": [
       "<table class=\"simpletable\">\n",
       "<caption>OLS Regression Results</caption>\n",
       "<tr>\n",
       "  <th>Dep. Variable:</th>         <td>Margin</td>      <th>  R-squared:         </th> <td>   0.376</td>\n",
       "</tr>\n",
       "<tr>\n",
       "  <th>Model:</th>                   <td>OLS</td>       <th>  Adj. R-squared:    </th> <td>   0.371</td>\n",
       "</tr>\n",
       "<tr>\n",
       "  <th>Method:</th>             <td>Least Squares</td>  <th>  F-statistic:       </th> <td>   79.25</td>\n",
       "</tr>\n",
       "<tr>\n",
       "  <th>Date:</th>             <td>Sat, 22 Aug 2020</td> <th>  Prob (F-statistic):</th> <td>1.16e-27</td>\n",
       "</tr>\n",
       "<tr>\n",
       "  <th>Time:</th>                 <td>08:42:12</td>     <th>  Log-Likelihood:    </th> <td> -1030.2</td>\n",
       "</tr>\n",
       "<tr>\n",
       "  <th>No. Observations:</th>      <td>   266</td>      <th>  AIC:               </th> <td>   2066.</td>\n",
       "</tr>\n",
       "<tr>\n",
       "  <th>Df Residuals:</th>          <td>   263</td>      <th>  BIC:               </th> <td>   2077.</td>\n",
       "</tr>\n",
       "<tr>\n",
       "  <th>Df Model:</th>              <td>     2</td>      <th>                     </th>     <td> </td>   \n",
       "</tr>\n",
       "<tr>\n",
       "  <th>Covariance Type:</th>      <td>nonrobust</td>    <th>                     </th>     <td> </td>   \n",
       "</tr>\n",
       "</table>\n",
       "<table class=\"simpletable\">\n",
       "<tr>\n",
       "      <td></td>         <th>coef</th>     <th>std err</th>      <th>t</th>      <th>P>|t|</th>  <th>[0.025</th>    <th>0.975]</th>  \n",
       "</tr>\n",
       "<tr>\n",
       "  <th>aSRS</th>      <td>    1.0913</td> <td>    0.113</td> <td>    9.625</td> <td> 0.000</td> <td>    0.868</td> <td>    1.315</td>\n",
       "</tr>\n",
       "<tr>\n",
       "  <th>hSRS</th>      <td>   -0.8989</td> <td>    0.110</td> <td>   -8.178</td> <td> 0.000</td> <td>   -1.115</td> <td>   -0.682</td>\n",
       "</tr>\n",
       "<tr>\n",
       "  <th>intercept</th> <td>    0.1291</td> <td>    0.718</td> <td>    0.180</td> <td> 0.857</td> <td>   -1.285</td> <td>    1.543</td>\n",
       "</tr>\n",
       "</table>\n",
       "<table class=\"simpletable\">\n",
       "<tr>\n",
       "  <th>Omnibus:</th>       <td> 1.548</td> <th>  Durbin-Watson:     </th> <td>   2.143</td>\n",
       "</tr>\n",
       "<tr>\n",
       "  <th>Prob(Omnibus):</th> <td> 0.461</td> <th>  Jarque-Bera (JB):  </th> <td>   1.485</td>\n",
       "</tr>\n",
       "<tr>\n",
       "  <th>Skew:</th>          <td> 0.089</td> <th>  Prob(JB):          </th> <td>   0.476</td>\n",
       "</tr>\n",
       "<tr>\n",
       "  <th>Kurtosis:</th>      <td> 2.681</td> <th>  Cond. No.          </th> <td>    6.54</td>\n",
       "</tr>\n",
       "</table><br/><br/>Warnings:<br/>[1] Standard Errors assume that the covariance matrix of the errors is correctly specified."
      ],
      "text/plain": [
       "<class 'statsmodels.iolib.summary.Summary'>\n",
       "\"\"\"\n",
       "                            OLS Regression Results                            \n",
       "==============================================================================\n",
       "Dep. Variable:                 Margin   R-squared:                       0.376\n",
       "Model:                            OLS   Adj. R-squared:                  0.371\n",
       "Method:                 Least Squares   F-statistic:                     79.25\n",
       "Date:                Sat, 22 Aug 2020   Prob (F-statistic):           1.16e-27\n",
       "Time:                        08:42:12   Log-Likelihood:                -1030.2\n",
       "No. Observations:                 266   AIC:                             2066.\n",
       "Df Residuals:                     263   BIC:                             2077.\n",
       "Df Model:                           2                                         \n",
       "Covariance Type:            nonrobust                                         \n",
       "==============================================================================\n",
       "                 coef    std err          t      P>|t|      [0.025      0.975]\n",
       "------------------------------------------------------------------------------\n",
       "aSRS           1.0913      0.113      9.625      0.000       0.868       1.315\n",
       "hSRS          -0.8989      0.110     -8.178      0.000      -1.115      -0.682\n",
       "intercept      0.1291      0.718      0.180      0.857      -1.285       1.543\n",
       "==============================================================================\n",
       "Omnibus:                        1.548   Durbin-Watson:                   2.143\n",
       "Prob(Omnibus):                  0.461   Jarque-Bera (JB):                1.485\n",
       "Skew:                           0.089   Prob(JB):                        0.476\n",
       "Kurtosis:                       2.681   Cond. No.                         6.54\n",
       "==============================================================================\n",
       "\n",
       "Warnings:\n",
       "[1] Standard Errors assume that the covariance matrix of the errors is correctly specified.\n",
       "\"\"\""
      ]
     },
     "execution_count": 20,
     "metadata": {},
     "output_type": "execute_result"
    }
   ],
   "source": [
    "data['intercept'] = 1 #required to find intercept\n",
    "x = data[['aSRS','hSRS','intercept']] #dependent variables\n",
    "\n",
    "reg_model = sm.OLS(data.Margin, x).fit()\n",
    "reg_model.summary()"
   ]
  },
  {
   "cell_type": "markdown",
   "metadata": {},
   "source": [
    "**Spread-Value Calculator**"
   ]
  },
  {
   "cell_type": "code",
   "execution_count": 21,
   "metadata": {},
   "outputs": [],
   "source": [
    "reg_stats = reg_model.params"
   ]
  },
  {
   "cell_type": "code",
   "execution_count": 22,
   "metadata": {},
   "outputs": [
    {
     "name": "stdout",
     "output_type": "stream",
     "text": [
      "Away Team: Chicago Bears\n",
      "Home Team: Green Bay Packers\n",
      "The predicted margin is: -3.73\n",
      "Therefore, the Chicago Bears have a spread of 3.73\n",
      "and the Green Bay Packers have a spread of -3.73\n"
     ]
    }
   ],
   "source": [
    "ateam = input('Away Team: ')\n",
    "hteam = input('Home Team: ')\n",
    "result = round(\n",
    "    reg_stats['intercept'] + srs_dict[ateam]*reg_stats['aSRS'] + \\\n",
    "    srs_dict[hteam]*reg_stats['hSRS'], 2)\n",
    "result2 = result*-1\n",
    "print('The predicted margin is:',result)\n",
    "print('Therefore, the',ateam,\"have a spread of\",result2)\n",
    "print('and the',hteam,'have a spread of',result)"
   ]
  },
  {
   "cell_type": "code",
   "execution_count": null,
   "metadata": {},
   "outputs": [],
   "source": []
  }
 ],
 "metadata": {
  "kernelspec": {
   "display_name": "Python 3",
   "language": "python",
   "name": "python3"
  },
  "language_info": {
   "codemirror_mode": {
    "name": "ipython",
    "version": 3
   },
   "file_extension": ".py",
   "mimetype": "text/x-python",
   "name": "python",
   "nbconvert_exporter": "python",
   "pygments_lexer": "ipython3",
   "version": "3.7.6"
  }
 },
 "nbformat": 4,
 "nbformat_minor": 4
}
